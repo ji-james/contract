{
  "nbformat": 4,
  "nbformat_minor": 0,
  "metadata": {
    "colab": {
      "name": "Untitled1.ipynb",
      "version": "0.3.2",
      "provenance": [],
      "collapsed_sections": [],
      "include_colab_link": true
    },
    "kernelspec": {
      "name": "python3",
      "display_name": "Python 3"
    }
  },
  "cells": [
    {
      "cell_type": "markdown",
      "metadata": {
        "id": "view-in-github",
        "colab_type": "text"
      },
      "source": [
        "<a href=\"https://colab.research.google.com/github/ji-james/contract/blob/master/Untitled1.ipynb\" target=\"_parent\"><img src=\"https://colab.research.google.com/assets/colab-badge.svg\" alt=\"Open In Colab\"/></a>"
      ]
    },
    {
      "cell_type": "code",
      "metadata": {
        "id": "tYJpWKKd2_jd",
        "colab_type": "code",
        "colab": {}
      },
      "source": [
        "import pandas as pd"
      ],
      "execution_count": 0,
      "outputs": []
    },
    {
      "cell_type": "code",
      "metadata": {
        "id": "tnC3F4oR3J4o",
        "colab_type": "code",
        "colab": {}
      },
      "source": [
        "import requests"
      ],
      "execution_count": 0,
      "outputs": []
    },
    {
      "cell_type": "code",
      "metadata": {
        "id": "eHweaHYF3Yns",
        "colab_type": "code",
        "colab": {}
      },
      "source": [
        "from bs4 import BeautifulSoup as bs"
      ],
      "execution_count": 0,
      "outputs": []
    },
    {
      "cell_type": "code",
      "metadata": {
        "id": "HQSRju1S3qsW",
        "colab_type": "code",
        "colab": {}
      },
      "source": [
        "import random"
      ],
      "execution_count": 0,
      "outputs": []
    },
    {
      "cell_type": "code",
      "metadata": {
        "id": "6Z90bzdj3uJ6",
        "colab_type": "code",
        "colab": {}
      },
      "source": [
        "import time"
      ],
      "execution_count": 0,
      "outputs": []
    },
    {
      "cell_type": "code",
      "metadata": {
        "id": "HeQb0dMg3xKF",
        "colab_type": "code",
        "colab": {}
      },
      "source": [
        "from tqdm import tqdm, trange"
      ],
      "execution_count": 0,
      "outputs": []
    },
    {
      "cell_type": "code",
      "metadata": {
        "id": "woopV5FJ4GQq",
        "colab_type": "code",
        "colab": {}
      },
      "source": [
        "import re"
      ],
      "execution_count": 0,
      "outputs": []
    },
    {
      "cell_type": "code",
      "metadata": {
        "id": "-7lNqRLY9fXG",
        "colab_type": "code",
        "colab": {}
      },
      "source": [
        "def get_suggestion_list(pnum):\n",
        "  base_url = f\"https://www.innogov.go.kr/ucms/ogp/sug/list.do?pnum={pnum}&menuNo=300102&orderKey=registDtDesc\"\n",
        "  response = requests.get(base_url)\n",
        "  if response.status_code == 200:\n",
        "      html  = bs(response.text, 'html.parser')\n",
        "  \n",
        "      tags = html.select('#content > div.suggestion_list > ul')[0].find_all('a')\n",
        "    \n",
        "      if not tags:\n",
        "        return(suggestion_list)\n",
        "      else:\n",
        "        for tag in tags:\n",
        "          suggestion_list.append(tag['href'])\n",
        "      pnum += 1\n",
        "      get_suggestion_list(pnum)\n",
        "      #print(pnum)\n",
        "  else:\n",
        "    return(suggestion_list)\n",
        "   "
      ],
      "execution_count": 0,
      "outputs": []
    },
    {
      "cell_type": "code",
      "metadata": {
        "id": "mEACwjI24Hvc",
        "colab_type": "code",
        "colab": {
          "base_uri": "https://localhost:8080/",
          "height": 107
        },
        "outputId": "937c5a50-fdcc-4f7f-af2d-3d08ab36aa66"
      },
      "source": [
        "suggestion_list = []\n",
        "pnum = 1\n",
        "\n",
        "get_suggestion_list(pnum)\n",
        "suggestion_list[:5]\n",
        "                        "
      ],
      "execution_count": 32,
      "outputs": [
        {
          "output_type": "execute_result",
          "data": {
            "text/plain": [
              "['/ucms/ogp/sug/view.do?menuNo=300102&sgId=227&pnum=1',\n",
              " '/ucms/ogp/sug/view.do?menuNo=300102&sgId=226&pnum=1',\n",
              " '/ucms/ogp/sug/view.do?menuNo=300102&sgId=225&pnum=1',\n",
              " '/ucms/ogp/sug/view.do?menuNo=300102&sgId=224&pnum=1',\n",
              " '/ucms/ogp/sug/view.do?menuNo=300102&sgId=223&pnum=1']"
            ]
          },
          "metadata": {
            "tags": []
          },
          "execution_count": 32
        }
      ]
    },
    {
      "cell_type": "code",
      "metadata": {
        "id": "p7ysIUSp9hbu",
        "colab_type": "code",
        "colab": {
          "base_uri": "https://localhost:8080/",
          "height": 55
        },
        "outputId": "0c6a7a1d-6dbe-44a9-bdfb-99c05c5605bd"
      },
      "source": [
        "base_url"
      ],
      "execution_count": 13,
      "outputs": [
        {
          "output_type": "execute_result",
          "data": {
            "text/plain": [
              "'https://www.innogov.go.kr/ucms/ogp/sug/list.do?pnum=1&menuNo=300102&cateCd=&searchText=&status1Cd=&Status2Cd=&sugMonthTp=201907&orderKey=registDtDesc'"
            ]
          },
          "metadata": {
            "tags": []
          },
          "execution_count": 13
        }
      ]
    },
    {
      "cell_type": "code",
      "metadata": {
        "id": "ovAFEbzs7YUi",
        "colab_type": "code",
        "colab": {
          "base_uri": "https://localhost:8080/",
          "height": 35
        },
        "outputId": "cac067fe-7b5e-409e-e08e-96c03d4de898"
      },
      "source": [
        "print(len(suggestion_list))\n",
        "  "
      ],
      "execution_count": 33,
      "outputs": [
        {
          "output_type": "stream",
          "text": [
            "188\n"
          ],
          "name": "stdout"
        }
      ]
    },
    {
      "cell_type": "code",
      "metadata": {
        "id": "uPkU00Q1_7vn",
        "colab_type": "code",
        "colab": {
          "base_uri": "https://localhost:8080/",
          "height": 53
        },
        "outputId": "298ba8f7-6d85-41f9-d933-60d31886dc2b"
      },
      "source": [
        "suggestion_list[:2]"
      ],
      "execution_count": 34,
      "outputs": [
        {
          "output_type": "execute_result",
          "data": {
            "text/plain": [
              "['/ucms/ogp/sug/view.do?menuNo=300102&sgId=227&pnum=1',\n",
              " '/ucms/ogp/sug/view.do?menuNo=300102&sgId=226&pnum=1']"
            ]
          },
          "metadata": {
            "tags": []
          },
          "execution_count": 34
        }
      ]
    },
    {
      "cell_type": "code",
      "metadata": {
        "id": "R0CdPvVNVgHl",
        "colab_type": "code",
        "colab": {
          "base_uri": "https://localhost:8080/",
          "height": 89
        },
        "outputId": "c301d234-c8c9-49de-d553-cbaa631729be"
      },
      "source": [
        "url = '/ucms/ogp/sug/view.do?menuNo=300102&sgId=227&pnum=1'\n",
        "base_url = f\"https://www.innogov.go.kr{url}\"\n",
        "response = requests.get(base_url)\n",
        "if response.status_code == 200:\n",
        "    html  = bs(response.text, 'html.parser')\n",
        "    #content > div.vveiw_box1 > dl > dt\n",
        "    title = html.select(\n",
        "            '#content > div.vveiw_box1 > dl > dt')[0].get_text(strip=True)\n",
        "    desc = html.select(\n",
        "           '#content > div.vveiw_box1 > div.vveiw_name > ul > li > dl > dd')\n",
        "    \n",
        "    print(desc[0].get_text(strip=True))\n",
        "    print(desc[1].get_text(strip=True))\n",
        "    print(desc[2].get_text(strip=True))\n",
        "    print(desc[3].get_text(strip=True))"
      ],
      "execution_count": 47,
      "outputs": [
        {
          "output_type": "stream",
          "text": [
            "국민참여\n",
            "2019.07.26\n",
            "2019.10.23\n",
            "길쌈\n"
          ],
          "name": "stdout"
        }
      ]
    },
    {
      "cell_type": "code",
      "metadata": {
        "id": "goQ_fjA9aeYa",
        "colab_type": "code",
        "colab": {}
      },
      "source": [
        "def get_suggestion_content(url):\n",
        "    article = []\n",
        "    base_url = f\"https://www.innogov.go.kr/{url}\"\n",
        "    response = requests.get( base_url )\n",
        "    if response.status_code == 200:\n",
        "        html = bs(response.text, 'html.parser')\n",
        "        # 제목을 가져옵니다.\n",
        "        title = html.select(\n",
        "            '#content > div.vveiw_box1 > dl > dt')[0].get_text(strip=True)\n",
        "        # dd 태그에 있는 내용을 가져와서 카테고리, 시작일, 마감일, 제안인 정보를 추출합니다.\n",
        "        desc = html.select(\n",
        "            '#content > div.vveiw_box1 > div.vveiw_name > ul > li > dl > dd')\n",
        "        category = desc[0].get_text(strip=True)\n",
        "        content = html.select(\n",
        "            '#content > div.vveiw_box1 > div.vveiw_cont > div > pre')[0].get_text(strip=True)\n",
        "        start = desc[1].get_text(strip=True)\n",
        "        end = desc[2].get_text(strip=True)\n",
        "        author = desc[3].get_text(strip=True)\n",
        "        # 추천인원을 가져옵니다.\n",
        "        vote = html.select('#counter')[0].get_text(strip=True)\n",
        "        # 해당 게시물의 Id 값을 가져옵니다.\n",
        "        sgId = url.split('=')[2].split('&')[0]\n",
        "        \n",
        "        article.append(sgId)\n",
        "        article.append(title)\n",
        "        article.append(category)\n",
        "        article.append(content)\n",
        "        article.append(start)\n",
        "        article.append(end)\n",
        "        article.append(vote)\n",
        "        article.append(author)\n",
        "        #print(article)\n",
        "        \n",
        "#         time.sleep(random.randint(1,2))\n",
        "        return article"
      ],
      "execution_count": 0,
      "outputs": []
    },
    {
      "cell_type": "code",
      "metadata": {
        "id": "qdqVS68IgaoF",
        "colab_type": "code",
        "colab": {
          "base_uri": "https://localhost:8080/",
          "height": 35
        },
        "outputId": "e7405dc2-4d8b-410d-f0eb-9ee169e13952"
      },
      "source": [
        "data = []\n",
        "# tqdm 을 사용해서 어느정도 가져왔는지 확인하기\n",
        "for i, suggestion in tqdm(enumerate(suggestion_list)):\n",
        "    # suggestion_list 에 있는 각 게시물에 접근해서 카테고리, 시작일, 마감일, 제안인, 제목, 내용 등을 가져옵니다.\n",
        "    s = get_suggestion_content(suggestion)\n",
        "    data.append(s)"
      ],
      "execution_count": 53,
      "outputs": [
        {
          "output_type": "stream",
          "text": [
            "188it [03:34,  1.12s/it]\n"
          ],
          "name": "stderr"
        }
      ]
    },
    {
      "cell_type": "code",
      "metadata": {
        "id": "4j1KZpfFhETb",
        "colab_type": "code",
        "colab": {
          "base_uri": "https://localhost:8080/",
          "height": 35
        },
        "outputId": "054012e1-807b-439b-9dc9-f8f445cb83b7"
      },
      "source": [
        "column_names = [\"sgId\", \"title\", \"category\", \"content\", \"start\", \"end\", \"vote\", \"author\"]\n",
        "column_names"
      ],
      "execution_count": 54,
      "outputs": [
        {
          "output_type": "execute_result",
          "data": {
            "text/plain": [
              "['sgId', 'title', 'category', 'content', 'start', 'end', 'vote', 'author']"
            ]
          },
          "metadata": {
            "tags": []
          },
          "execution_count": 54
        }
      ]
    },
    {
      "cell_type": "code",
      "metadata": {
        "id": "G16mn64Xh-kl",
        "colab_type": "code",
        "colab": {
          "base_uri": "https://localhost:8080/",
          "height": 323
        },
        "outputId": "f3c1c2e5-4f61-4c5b-a5e2-c26867f662f7"
      },
      "source": [
        "data = pd.DataFrame(data, columns=column_names)\n",
        "data.head()"
      ],
      "execution_count": 55,
      "outputs": [
        {
          "output_type": "execute_result",
          "data": {
            "text/html": [
              "<div>\n",
              "<style scoped>\n",
              "    .dataframe tbody tr th:only-of-type {\n",
              "        vertical-align: middle;\n",
              "    }\n",
              "\n",
              "    .dataframe tbody tr th {\n",
              "        vertical-align: top;\n",
              "    }\n",
              "\n",
              "    .dataframe thead th {\n",
              "        text-align: right;\n",
              "    }\n",
              "</style>\n",
              "<table border=\"1\" class=\"dataframe\">\n",
              "  <thead>\n",
              "    <tr style=\"text-align: right;\">\n",
              "      <th></th>\n",
              "      <th>sgId</th>\n",
              "      <th>title</th>\n",
              "      <th>category</th>\n",
              "      <th>content</th>\n",
              "      <th>start</th>\n",
              "      <th>end</th>\n",
              "      <th>vote</th>\n",
              "      <th>author</th>\n",
              "    </tr>\n",
              "  </thead>\n",
              "  <tbody>\n",
              "    <tr>\n",
              "      <th>0</th>\n",
              "      <td>227</td>\n",
              "      <td>국민제안 문제점 지적 및 개선사항</td>\n",
              "      <td>국민참여</td>\n",
              "      <td>다음은\"국민신문고 및 국민제안 문제점에 대한 개선제안 입니다.&lt;&lt;국민신문고 및 국민...</td>\n",
              "      <td>2019.07.26</td>\n",
              "      <td>2019.10.23</td>\n",
              "      <td>2</td>\n",
              "      <td>길쌈</td>\n",
              "    </tr>\n",
              "    <tr>\n",
              "      <th>1</th>\n",
              "      <td>226</td>\n",
              "      <td>가정양육수당 대폭 인상을 통한 보육예산 DOWN, 아이행복 UP</td>\n",
              "      <td>보건복지</td>\n",
              "      <td>지난 2006년부터 12년간 저출산 대책에 126조원의 재정을 투입했지만, 지난해 ...</td>\n",
              "      <td>2019.07.19</td>\n",
              "      <td>2019.10.16</td>\n",
              "      <td>1</td>\n",
              "      <td>한들바람</td>\n",
              "    </tr>\n",
              "    <tr>\n",
              "      <th>2</th>\n",
              "      <td>225</td>\n",
              "      <td>보안점검테스트</td>\n",
              "      <td>기타</td>\n",
              "      <td>보안점검테스트해당글 미삭제 시 삭제 조치 부탁드립니다.</td>\n",
              "      <td>2019.07.17</td>\n",
              "      <td>2019.10.14</td>\n",
              "      <td>1</td>\n",
              "      <td>보안</td>\n",
              "    </tr>\n",
              "    <tr>\n",
              "      <th>3</th>\n",
              "      <td>224</td>\n",
              "      <td>보안점검테스트</td>\n",
              "      <td>기타</td>\n",
              "      <td>보안점검테스트해당글 미삭세 시 삭제 조치 부탁드립니다.</td>\n",
              "      <td>2019.07.17</td>\n",
              "      <td>2019.10.14</td>\n",
              "      <td>1</td>\n",
              "      <td>보안</td>\n",
              "    </tr>\n",
              "    <tr>\n",
              "      <th>4</th>\n",
              "      <td>223</td>\n",
              "      <td>보안점검테스트</td>\n",
              "      <td>기타</td>\n",
              "      <td>보안점검테스트입니다.해당글 미삭제 시 삭제 조치 부탁드립니다.test</td>\n",
              "      <td>2019.07.17</td>\n",
              "      <td>2019.10.14</td>\n",
              "      <td>1</td>\n",
              "      <td>보안</td>\n",
              "    </tr>\n",
              "  </tbody>\n",
              "</table>\n",
              "</div>"
            ],
            "text/plain": [
              "  sgId                                title category  ...         end vote author\n",
              "0  227                   국민제안 문제점 지적 및 개선사항     국민참여  ...  2019.10.23    2     길쌈\n",
              "1  226  가정양육수당 대폭 인상을 통한 보육예산 DOWN, 아이행복 UP     보건복지  ...  2019.10.16    1   한들바람\n",
              "2  225                              보안점검테스트       기타  ...  2019.10.14    1     보안\n",
              "3  224                              보안점검테스트       기타  ...  2019.10.14    1     보안\n",
              "4  223                              보안점검테스트       기타  ...  2019.10.14    1     보안\n",
              "\n",
              "[5 rows x 8 columns]"
            ]
          },
          "metadata": {
            "tags": []
          },
          "execution_count": 55
        }
      ]
    },
    {
      "cell_type": "code",
      "metadata": {
        "id": "ChQhRkpniDpx",
        "colab_type": "code",
        "colab": {
          "base_uri": "https://localhost:8080/",
          "height": 374
        },
        "outputId": "5be4e2ba-a2d5-4ac5-d7a7-72531450926a"
      },
      "source": [
        "data.tail()"
      ],
      "execution_count": 56,
      "outputs": [
        {
          "output_type": "execute_result",
          "data": {
            "text/html": [
              "<div>\n",
              "<style scoped>\n",
              "    .dataframe tbody tr th:only-of-type {\n",
              "        vertical-align: middle;\n",
              "    }\n",
              "\n",
              "    .dataframe tbody tr th {\n",
              "        vertical-align: top;\n",
              "    }\n",
              "\n",
              "    .dataframe thead th {\n",
              "        text-align: right;\n",
              "    }\n",
              "</style>\n",
              "<table border=\"1\" class=\"dataframe\">\n",
              "  <thead>\n",
              "    <tr style=\"text-align: right;\">\n",
              "      <th></th>\n",
              "      <th>sgId</th>\n",
              "      <th>title</th>\n",
              "      <th>category</th>\n",
              "      <th>content</th>\n",
              "      <th>start</th>\n",
              "      <th>end</th>\n",
              "      <th>vote</th>\n",
              "      <th>author</th>\n",
              "    </tr>\n",
              "  </thead>\n",
              "  <tbody>\n",
              "    <tr>\n",
              "      <th>183</th>\n",
              "      <td>5</td>\n",
              "      <td>철도 및  고속도로변 유휴지에  태양전지판 설치</td>\n",
              "      <td>기타</td>\n",
              "      <td>에너지 부존자원 국가인 우리나라에서 국토를 좀 더 효율적으로 활용하여 미래의 무공해...</td>\n",
              "      <td>2018.08.03</td>\n",
              "      <td>2018.09.02</td>\n",
              "      <td>8</td>\n",
              "      <td>지고기</td>\n",
              "    </tr>\n",
              "    <tr>\n",
              "      <th>184</th>\n",
              "      <td>4</td>\n",
              "      <td>“일거리” 매칭 사이트를 개설하여 “일자리” 창출 연계</td>\n",
              "      <td>상생협력</td>\n",
              "      <td>○문제점-최근(2018.05)취업자 증가폭이10만명 밑으로 추락했다고 한다.글로벌 ...</td>\n",
              "      <td>2018.08.02</td>\n",
              "      <td>2018.09.01</td>\n",
              "      <td>4</td>\n",
              "      <td>옹성산</td>\n",
              "    </tr>\n",
              "    <tr>\n",
              "      <th>185</th>\n",
              "      <td>3</td>\n",
              "      <td>경력증명을 위한 경력등록(은행)제도 시행</td>\n",
              "      <td>일반행정</td>\n",
              "      <td>○문제점-모든 기관(국가,민간)에 사업,채용지원,이력증빙서류로“경력증명서”를 요구하...</td>\n",
              "      <td>2018.08.02</td>\n",
              "      <td>2018.09.01</td>\n",
              "      <td>4</td>\n",
              "      <td>옹성산</td>\n",
              "    </tr>\n",
              "    <tr>\n",
              "      <th>186</th>\n",
              "      <td>2</td>\n",
              "      <td>공무원 전입시험의 투명성 확보방안</td>\n",
              "      <td>반부패청렴</td>\n",
              "      <td>현직 공무원들의 타기관이나 상급기관에 전입시험시투명성을 높이는 방안을 마련했으면 합...</td>\n",
              "      <td>2018.08.01</td>\n",
              "      <td>2018.08.31</td>\n",
              "      <td>7</td>\n",
              "      <td>음지가양지된다</td>\n",
              "    </tr>\n",
              "    <tr>\n",
              "      <th>187</th>\n",
              "      <td>1</td>\n",
              "      <td>어린이집 차량내 어린이 질식사고 등에 대한 상세한 대책이 필요하다.</td>\n",
              "      <td>안전</td>\n",
              "      <td>최근 동두천 어린이집 차량내 어린이 질식사고가 발생하여, 이에 대한 여러가지 대책을...</td>\n",
              "      <td>2018.07.24</td>\n",
              "      <td>2018.08.23</td>\n",
              "      <td>14</td>\n",
              "      <td>헌비</td>\n",
              "    </tr>\n",
              "  </tbody>\n",
              "</table>\n",
              "</div>"
            ],
            "text/plain": [
              "    sgId                                  title  ... vote   author\n",
              "183    5             철도 및  고속도로변 유휴지에  태양전지판 설치  ...    8      지고기\n",
              "184    4         “일거리” 매칭 사이트를 개설하여 “일자리” 창출 연계  ...    4      옹성산\n",
              "185    3                 경력증명을 위한 경력등록(은행)제도 시행  ...    4      옹성산\n",
              "186    2                     공무원 전입시험의 투명성 확보방안  ...    7  음지가양지된다\n",
              "187    1  어린이집 차량내 어린이 질식사고 등에 대한 상세한 대책이 필요하다.  ...   14       헌비\n",
              "\n",
              "[5 rows x 8 columns]"
            ]
          },
          "metadata": {
            "tags": []
          },
          "execution_count": 56
        }
      ]
    },
    {
      "cell_type": "code",
      "metadata": {
        "id": "wSwm8UBFiMYB",
        "colab_type": "code",
        "colab": {
          "base_uri": "https://localhost:8080/",
          "height": 233
        },
        "outputId": "9b60b083-ca7c-4e6e-912b-716b025f5ea1"
      },
      "source": [
        "data[\"category\"].value_counts()"
      ],
      "execution_count": 57,
      "outputs": [
        {
          "output_type": "execute_result",
          "data": {
            "text/plain": [
              "일반행정     31\n",
              "보건복지     30\n",
              "기타       29\n",
              "안전       22\n",
              "인권/평등    18\n",
              "환경       13\n",
              "국민참여     11\n",
              "상생협력     11\n",
              "사회통합      8\n",
              "반부패청렴     8\n",
              "공동체       7\n",
              "Name: category, dtype: int64"
            ]
          },
          "metadata": {
            "tags": []
          },
          "execution_count": 57
        }
      ]
    },
    {
      "cell_type": "code",
      "metadata": {
        "id": "3AeCtH9niQfH",
        "colab_type": "code",
        "colab": {
          "base_uri": "https://localhost:8080/",
          "height": 136
        },
        "outputId": "341fb351-504b-4d68-dfda-22745727cc1d"
      },
      "source": [
        "data.to_csv(\"C:\\Users\\user\\Desktop/suggestion.csv\", index=False)"
      ],
      "execution_count": 59,
      "outputs": [
        {
          "output_type": "error",
          "ename": "SyntaxError",
          "evalue": "ignored",
          "traceback": [
            "\u001b[0;36m  File \u001b[0;32m\"<ipython-input-59-783615f2fab1>\"\u001b[0;36m, line \u001b[0;32m1\u001b[0m\n\u001b[0;31m    data.to_csv(\"C:\\Users\\user\\Desktop/suggestion.csv\", index=False)\u001b[0m\n\u001b[0m               ^\u001b[0m\n\u001b[0;31mSyntaxError\u001b[0m\u001b[0;31m:\u001b[0m (unicode error) 'unicodeescape' codec can't decode bytes in position 2-3: truncated \\UXXXXXXXX escape\n"
          ]
        }
      ]
    },
    {
      "cell_type": "code",
      "metadata": {
        "id": "3sVZx_GIiYaz",
        "colab_type": "code",
        "colab": {}
      },
      "source": [
        ""
      ],
      "execution_count": 0,
      "outputs": []
    }
  ]
}